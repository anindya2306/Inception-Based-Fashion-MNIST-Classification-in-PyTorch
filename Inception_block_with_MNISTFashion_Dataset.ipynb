{
  "nbformat": 4,
  "nbformat_minor": 0,
  "metadata": {
    "colab": {
      "provenance": []
    },
    "kernelspec": {
      "name": "python3",
      "display_name": "Python 3"
    },
    "language_info": {
      "name": "python"
    },
    "accelerator": "GPU",
    "gpuClass": "standard"
  },
  "cells": [
    {
      "cell_type": "code",
      "execution_count": null,
      "metadata": {
        "id": "W1EjQAVthMPz"
      },
      "outputs": [],
      "source": [
        "import os\n",
        "import torch\n",
        "import torchvision\n",
        "import torchvision.transforms as transforms\n",
        "from torch.utils.data.sampler import SubsetRandomSampler\n",
        "import torch.nn as nn\n",
        "from torchvision import datasets\n",
        "import torch.optim as optim\n",
        "import matplotlib.pyplot as plt\n",
        "from PIL import Image as im\n",
        "from sklearn.metrics import confusion_matrix\n",
        "import numpy as np"
      ]
    },
    {
      "cell_type": "code",
      "source": [],
      "metadata": {
        "id": "_xHt5hF3iDwV"
      },
      "execution_count": null,
      "outputs": []
    },
    {
      "cell_type": "code",
      "source": [
        "# Define the transformation pipeline for the CIFAR-10 dataset\n",
        "transform_train = transforms.Compose([\n",
        "    transforms.RandomHorizontalFlip(),\n",
        "    transforms.ToTensor(),\n",
        "    transforms.Normalize( mean=[0.5],\n",
        "                          std=[0.5],)\n",
        "])\n",
        "\n",
        "transform_validation = transforms.Compose([\n",
        "      transforms.ToTensor(),\n",
        "      transforms.Normalize( mean=[0.5],\n",
        "                          std=[0.5],)\n",
        "])\n",
        "\n",
        "transform_test = transforms.Compose([\n",
        "    transforms.ToTensor(),\n",
        "    transforms.Normalize( mean=[0.5],\n",
        "                          std=[0.5],)\n",
        "])"
      ],
      "metadata": {
        "id": "0dDq_oiahWDz"
      },
      "execution_count": null,
      "outputs": []
    },
    {
      "cell_type": "code",
      "source": [
        "trainset = datasets.FashionMNIST(root='./data', train=True, download=True, transform=transform_train)\n",
        "\n",
        "\n",
        "validset = datasets.FashionMNIST(root='./data', train=True, download=True, transform=transform_validation)\n",
        "\n",
        "\n",
        "testset = datasets.FashionMNIST(root='./data', train=False, download=True, transform=transform_test)\n",
        "\n"
      ],
      "metadata": {
        "colab": {
          "base_uri": "https://localhost:8080/"
        },
        "id": "agaiDi2BhdqJ",
        "outputId": "befb29be-3f27-4cfc-b6a7-b1217e0485ee"
      },
      "execution_count": null,
      "outputs": [
        {
          "output_type": "stream",
          "name": "stdout",
          "text": [
            "Downloading http://fashion-mnist.s3-website.eu-central-1.amazonaws.com/train-images-idx3-ubyte.gz\n",
            "Downloading http://fashion-mnist.s3-website.eu-central-1.amazonaws.com/train-images-idx3-ubyte.gz to ./data/FashionMNIST/raw/train-images-idx3-ubyte.gz\n"
          ]
        },
        {
          "output_type": "stream",
          "name": "stderr",
          "text": [
            "100%|██████████| 26421880/26421880 [00:14<00:00, 1808274.40it/s]\n"
          ]
        },
        {
          "output_type": "stream",
          "name": "stdout",
          "text": [
            "Extracting ./data/FashionMNIST/raw/train-images-idx3-ubyte.gz to ./data/FashionMNIST/raw\n",
            "\n",
            "Downloading http://fashion-mnist.s3-website.eu-central-1.amazonaws.com/train-labels-idx1-ubyte.gz\n",
            "Downloading http://fashion-mnist.s3-website.eu-central-1.amazonaws.com/train-labels-idx1-ubyte.gz to ./data/FashionMNIST/raw/train-labels-idx1-ubyte.gz\n"
          ]
        },
        {
          "output_type": "stream",
          "name": "stderr",
          "text": [
            "100%|██████████| 29515/29515 [00:00<00:00, 120195.62it/s]\n"
          ]
        },
        {
          "output_type": "stream",
          "name": "stdout",
          "text": [
            "Extracting ./data/FashionMNIST/raw/train-labels-idx1-ubyte.gz to ./data/FashionMNIST/raw\n",
            "\n",
            "Downloading http://fashion-mnist.s3-website.eu-central-1.amazonaws.com/t10k-images-idx3-ubyte.gz\n",
            "Downloading http://fashion-mnist.s3-website.eu-central-1.amazonaws.com/t10k-images-idx3-ubyte.gz to ./data/FashionMNIST/raw/t10k-images-idx3-ubyte.gz\n"
          ]
        },
        {
          "output_type": "stream",
          "name": "stderr",
          "text": [
            "100%|██████████| 4422102/4422102 [00:01<00:00, 2244404.80it/s]\n"
          ]
        },
        {
          "output_type": "stream",
          "name": "stdout",
          "text": [
            "Extracting ./data/FashionMNIST/raw/t10k-images-idx3-ubyte.gz to ./data/FashionMNIST/raw\n",
            "\n",
            "Downloading http://fashion-mnist.s3-website.eu-central-1.amazonaws.com/t10k-labels-idx1-ubyte.gz\n",
            "Downloading http://fashion-mnist.s3-website.eu-central-1.amazonaws.com/t10k-labels-idx1-ubyte.gz to ./data/FashionMNIST/raw/t10k-labels-idx1-ubyte.gz\n"
          ]
        },
        {
          "output_type": "stream",
          "name": "stderr",
          "text": [
            "100%|██████████| 5148/5148 [00:00<00:00, 4887342.01it/s]"
          ]
        },
        {
          "output_type": "stream",
          "name": "stdout",
          "text": [
            "Extracting ./data/FashionMNIST/raw/t10k-labels-idx1-ubyte.gz to ./data/FashionMNIST/raw\n",
            "\n"
          ]
        },
        {
          "output_type": "stream",
          "name": "stderr",
          "text": [
            "\n"
          ]
        }
      ]
    },
    {
      "cell_type": "code",
      "source": [
        "trainset"
      ],
      "metadata": {
        "colab": {
          "base_uri": "https://localhost:8080/"
        },
        "id": "RWJLTvKIjFxW",
        "outputId": "7ce2e5e2-1696-4297-d4ae-2c903bad47ed"
      },
      "execution_count": null,
      "outputs": [
        {
          "output_type": "execute_result",
          "data": {
            "text/plain": [
              "Dataset FashionMNIST\n",
              "    Number of datapoints: 60000\n",
              "    Root location: ./data\n",
              "    Split: Train\n",
              "    StandardTransform\n",
              "Transform: Compose(\n",
              "               RandomHorizontalFlip(p=0.5)\n",
              "               ToTensor()\n",
              "               Normalize(mean=[0.5], std=[0.5])\n",
              "           )"
            ]
          },
          "metadata": {},
          "execution_count": 8
        }
      ]
    },
    {
      "cell_type": "code",
      "source": [
        "def get_train_valid_loader(trainset, validset,\n",
        "                           batch_size,\n",
        "                           random_seed,\n",
        "                           valid_size=0.1,\n",
        "                           shuffle=True):\n",
        "\n",
        "    num_train = len(trainset)\n",
        "    indices = list(range(num_train))\n",
        "    split = int(np.floor(valid_size * num_train))\n",
        "\n",
        "    if shuffle:\n",
        "        np.random.seed(random_seed)\n",
        "        np.random.shuffle(indices)\n",
        "\n",
        "    train_idx, valid_idx = indices[split:], indices[:split]\n",
        "    train_sampler = SubsetRandomSampler(train_idx)\n",
        "    valid_sampler = SubsetRandomSampler(valid_idx)\n",
        "\n",
        "    train_loader = torch.utils.data.DataLoader(\n",
        "        trainset, batch_size=batch_size, sampler=train_sampler)\n",
        "\n",
        "    valid_loader = torch.utils.data.DataLoader(\n",
        "        validset, batch_size=batch_size, sampler=valid_sampler)\n",
        "\n",
        "    return (train_loader, valid_loader)\n",
        "\n",
        "\n",
        "def get_test_loader(testset,\n",
        "                    batch_size,\n",
        "                    shuffle=True):\n",
        "\n",
        "    data_loader = torch.utils.data.DataLoader(\n",
        "        testset, batch_size=batch_size, shuffle=shuffle\n",
        "    )\n",
        "\n",
        "    return data_loader\n",
        "\n",
        "\n",
        "# CIFAR10 dataset\n",
        "trainloader, validloader = get_train_valid_loader(trainset, validset, batch_size = 128,  random_seed = 1)\n",
        "\n",
        "testloader = get_test_loader(testset, batch_size = 128)"
      ],
      "metadata": {
        "id": "_sK_wzHLhogJ"
      },
      "execution_count": null,
      "outputs": []
    },
    {
      "cell_type": "code",
      "source": [
        "id = 5\n",
        "img, label = trainset[id]\n",
        "print(img.shape)\n",
        "print(label)\n",
        "print(img.shape)\n",
        "img = np.asarray(img)\n",
        "img = np.transpose(img, [1, 2, 0])\n",
        "print(img.shape)\n",
        "# img1 = im.fromarray(img)\n",
        "plt.imshow(img)"
      ],
      "metadata": {
        "colab": {
          "base_uri": "https://localhost:8080/",
          "height": 517
        },
        "id": "TAly2YCchu_u",
        "outputId": "71d8919a-ff30-48d1-dce5-b2cf6240f806"
      },
      "execution_count": null,
      "outputs": [
        {
          "output_type": "stream",
          "name": "stdout",
          "text": [
            "torch.Size([1, 28, 28])\n",
            "2\n",
            "torch.Size([1, 28, 28])\n",
            "(28, 28, 1)\n"
          ]
        },
        {
          "output_type": "execute_result",
          "data": {
            "text/plain": [
              "<matplotlib.image.AxesImage at 0x7f27e3d54c40>"
            ]
          },
          "metadata": {},
          "execution_count": 10
        },
        {
          "output_type": "display_data",
          "data": {
            "text/plain": [
              "<Figure size 640x480 with 1 Axes>"
            ],
            "image/png": "[encoded data removed]"
          },
          "metadata": {}
        }
      ]
    },
    {
      "cell_type": "code",
      "source": [
        "class Model(nn.Module):\n",
        "    def __init__(self):\n",
        "        super(Model, self).__init__()\n",
        "        self.layer1 = nn.Sequential(\n",
        "            nn.Conv2d(1, 32, kernel_size=7, stride=2, padding=1),\n",
        "            nn.BatchNorm2d(32),\n",
        "            nn.ReLU())\n",
        "        self.path1 = nn.Sequential(\n",
        "            nn.Conv2d(32, 16, kernel_size=5, stride=1, padding=2),\n",
        "            nn.BatchNorm2d(16),\n",
        "            nn.ReLU())\n",
        "        self.path2 = nn.Sequential(\n",
        "            nn.Conv2d(32, 16, kernel_size=3, stride=1, padding=1),\n",
        "            nn.BatchNorm2d(16),\n",
        "            nn.ReLU())\n",
        "        self.layer3 = nn.Sequential(\n",
        "            nn.Conv2d(32, 32, kernel_size=1, stride=1, padding=0),\n",
        "            nn.BatchNorm2d(32),\n",
        "            nn.ReLU())\n",
        "        self.Skip_path = nn.Sequential(\n",
        "            nn.Conv2d(32, 32, kernel_size=1, stride=1, padding=0),\n",
        "            nn.BatchNorm2d(32),\n",
        "            nn.ReLU())\n",
        "        self.linear1 = nn.Sequential(\n",
        "            nn.Dropout(0.5),\n",
        "            nn.Linear(4608, 2304),\n",
        "            nn.ReLU())\n",
        "        self.linear2 = nn.Sequential(\n",
        "            nn.Dropout(0.5),\n",
        "            nn.Linear(2304, 2304),\n",
        "            nn.ReLU())\n",
        "        self.linear3= nn.Sequential(\n",
        "            nn.Linear(2304, 10))\n",
        "            #nn.Softmax(dim = 10))\n",
        "\n",
        "\n",
        "\n",
        "    def forward(self, x):\n",
        "        x = self.layer1(x)\n",
        "        x1 = self.path1(x)\n",
        "        x2 = self.path2(x)\n",
        "        x3 = torch.cat([x1, x2], 1)\n",
        "        x3 = self.layer3(x3)\n",
        "        x = self.Skip_path(x)\n",
        "        x = x + x3\n",
        "        x = x.reshape(x.size(0), -1) #flatten\n",
        "        x = self.linear1(x)\n",
        "        x = self.linear2(x)\n",
        "        x = self.linear3(x)\n",
        "        return x"
      ],
      "metadata": {
        "id": "5fD-nNNRjUNn"
      },
      "execution_count": null,
      "outputs": []
    },
    {
      "cell_type": "code",
      "source": [
        "model = Model()\n",
        "print(model)"
      ],
      "metadata": {
        "colab": {
          "base_uri": "https://localhost:8080/"
        },
        "id": "YrnaZq7loXrA",
        "outputId": "e8e51364-1346-4876-efcd-35cb04344eee"
      },
      "execution_count": null,
      "outputs": [
        {
          "output_type": "stream",
          "name": "stdout",
          "text": [
            "Model(\n",
            "  (layer1): Sequential(\n",
            "    (0): Conv2d(1, 32, kernel_size=(7, 7), stride=(2, 2), padding=(1, 1))\n",
            "    (1): BatchNorm2d(32, eps=1e-05, momentum=0.1, affine=True, track_running_stats=True)\n",
            "    (2): ReLU()\n",
            "  )\n",
            "  (path1): Sequential(\n",
            "    (0): Conv2d(32, 16, kernel_size=(5, 5), stride=(1, 1), padding=(2, 2))\n",
            "    (1): BatchNorm2d(16, eps=1e-05, momentum=0.1, affine=True, track_running_stats=True)\n",
            "    (2): ReLU()\n",
            "  )\n",
            "  (path2): Sequential(\n",
            "    (0): Conv2d(32, 16, kernel_size=(3, 3), stride=(1, 1), padding=(1, 1))\n",
            "    (1): BatchNorm2d(16, eps=1e-05, momentum=0.1, affine=True, track_running_stats=True)\n",
            "    (2): ReLU()\n",
            "  )\n",
            "  (layer3): Sequential(\n",
            "    (0): Conv2d(32, 32, kernel_size=(1, 1), stride=(1, 1))\n",
            "    (1): BatchNorm2d(32, eps=1e-05, momentum=0.1, affine=True, track_running_stats=True)\n",
            "    (2): ReLU()\n",
            "  )\n",
            "  (Skip_path): Sequential(\n",
            "    (0): Conv2d(32, 32, kernel_size=(1, 1), stride=(1, 1))\n",
            "    (1): BatchNorm2d(32, eps=1e-05, momentum=0.1, affine=True, track_running_stats=True)\n",
            "    (2): ReLU()\n",
            "  )\n",
            "  (linear1): Sequential(\n",
            "    (0): Dropout(p=0.5, inplace=False)\n",
            "    (1): Linear(in_features=4608, out_features=2304, bias=True)\n",
            "    (2): ReLU()\n",
            "  )\n",
            "  (linear2): Sequential(\n",
            "    (0): Dropout(p=0.5, inplace=False)\n",
            "    (1): Linear(in_features=2304, out_features=2304, bias=True)\n",
            "    (2): ReLU()\n",
            "  )\n",
            "  (linear3): Sequential(\n",
            "    (0): Linear(in_features=2304, out_features=10, bias=True)\n",
            "  )\n",
            ")\n"
          ]
        }
      ]
    },
    {
      "cell_type": "code",
      "source": [
        "num_epochs = 15\n",
        "learning_rate = 0.001\n",
        "\n",
        "if torch.cuda.is_available():\n",
        "    model.to('cuda')\n",
        "else:\n",
        "    model.to('cpu')\n",
        "\n",
        "\n",
        "# Loss and optimizer\n",
        "criterion = nn.CrossEntropyLoss()\n",
        "optimizer = torch.optim.Adam(model.parameters(), lr=learning_rate)"
      ],
      "metadata": {
        "id": "L8qU0vqbobfe"
      },
      "execution_count": null,
      "outputs": []
    },
    {
      "cell_type": "code",
      "source": [
        "Train_Accuracy = []\n",
        "Test_Accuracy = []\n",
        "total_step = len(trainloader)\n",
        "path = r\"/content/Saved_models\"\n",
        "max_acc = 0\n",
        "iter = 0\n",
        "for epoch in range(num_epochs):\n",
        "    running_loss = 0.0\n",
        "    running_correct = 0\n",
        "    total = 0\n",
        "    print(\"-\"*50)\n",
        "    for i, (images, labels) in enumerate(trainloader):\n",
        "        # Move tensors to the configured device\n",
        "\n",
        "        if torch.cuda.is_available():\n",
        "          images = images.to('cuda')\n",
        "          labels = labels.to('cuda')\n",
        "\n",
        "        # Forward pass\n",
        "        outputs = model(images)\n",
        "        _, pred = torch.max(outputs.data, 1)\n",
        "        total += labels.size(0)\n",
        "        running_correct += (pred == labels).sum().item()\n",
        "        loss = criterion(outputs, labels)\n",
        "        #running_loss = running_loss + loss.data\n",
        "        #print(\"[E: %d] loss: %f, avg_loss: %f\" % (epoch, loss.data, running_loss/cnt))\n",
        "\n",
        "        # Backward and optimize\n",
        "        optimizer.zero_grad()\n",
        "        loss.backward()\n",
        "        optimizer.step()\n",
        "\n",
        "    print ('Epoch [{}/{}], Step [{}/{}], Loss: {:.4f}, Train Accuracy is:{:.4f}%'\n",
        "                   .format(epoch+1, num_epochs, i+1, total_step, loss.item(), 100*running_correct/total))\n",
        "\n",
        "    # Validation\n",
        "    with torch.no_grad():\n",
        "        correct = 0\n",
        "        total = 0\n",
        "        for images, labels in validloader:\n",
        "            if torch.cuda.is_available():\n",
        "              images = images.to('cuda')\n",
        "              labels = labels.to('cuda')\n",
        "            outputs = model(images)\n",
        "            _, predicted = torch.max(outputs.data, 1)\n",
        "            total += labels.size(0)\n",
        "            correct += (predicted == labels).sum().item()\n",
        "            del images, labels, outputs\n",
        "        val_acc = 100 * correct / total\n",
        "        print('Accuracy of the network on the {} validation images: {} %'.format(5000, val_acc))\n",
        "        Train_Accuracy.append(running_correct/len(trainset))\n",
        "        Test_Accuracy.append(val_acc)\n",
        "        if (val_acc>max_acc):\n",
        "          max_acc = val_acc\n",
        "          iter = epoch\n",
        "          torch.save(model.state_dict(), os.path.join(path, 'epoch-{}_Val_acc-{}.pt'.format(epoch, val_acc)))"
      ],
      "metadata": {
        "colab": {
          "base_uri": "https://localhost:8080/"
        },
        "id": "lEawbL2iokIR",
        "outputId": "187c7208-01a4-4da1-c325-2f0b3073d9e4"
      },
      "execution_count": null,
      "outputs": [
        {
          "output_type": "stream",
          "name": "stdout",
          "text": [
            "--------------------------------------------------\n",
            "Epoch [1/15], Step [422/422], Loss: 0.4140, Train Accuracy is:78.9537%\n",
            "Accuracy of the network on the 5000 validation images: 82.76666666666667 %\n",
            "--------------------------------------------------\n",
            "Epoch [2/15], Step [422/422], Loss: 0.5605, Train Accuracy is:84.9500%\n",
            "Accuracy of the network on the 5000 validation images: 85.5 %\n",
            "--------------------------------------------------\n",
            "Epoch [3/15], Step [422/422], Loss: 0.3947, Train Accuracy is:86.4241%\n",
            "Accuracy of the network on the 5000 validation images: 85.73333333333333 %\n",
            "--------------------------------------------------\n",
            "Epoch [4/15], Step [422/422], Loss: 0.3576, Train Accuracy is:87.4630%\n",
            "Accuracy of the network on the 5000 validation images: 86.88333333333334 %\n",
            "--------------------------------------------------\n",
            "Epoch [5/15], Step [422/422], Loss: 0.2690, Train Accuracy is:88.1278%\n",
            "Accuracy of the network on the 5000 validation images: 87.55 %\n",
            "--------------------------------------------------\n",
            "Epoch [6/15], Step [422/422], Loss: 0.4221, Train Accuracy is:88.8037%\n",
            "Accuracy of the network on the 5000 validation images: 87.18333333333334 %\n",
            "--------------------------------------------------\n",
            "Epoch [7/15], Step [422/422], Loss: 0.2321, Train Accuracy is:89.2722%\n",
            "Accuracy of the network on the 5000 validation images: 88.15 %\n",
            "--------------------------------------------------\n",
            "Epoch [8/15], Step [422/422], Loss: 0.2588, Train Accuracy is:89.8019%\n",
            "Accuracy of the network on the 5000 validation images: 88.81666666666666 %\n",
            "--------------------------------------------------\n",
            "Epoch [9/15], Step [422/422], Loss: 0.3236, Train Accuracy is:90.0926%\n",
            "Accuracy of the network on the 5000 validation images: 88.61666666666666 %\n",
            "--------------------------------------------------\n",
            "Epoch [10/15], Step [422/422], Loss: 0.2246, Train Accuracy is:90.4593%\n",
            "Accuracy of the network on the 5000 validation images: 89.6 %\n",
            "--------------------------------------------------\n",
            "Epoch [11/15], Step [422/422], Loss: 0.2460, Train Accuracy is:90.7981%\n",
            "Accuracy of the network on the 5000 validation images: 89.18333333333334 %\n",
            "--------------------------------------------------\n",
            "Epoch [12/15], Step [422/422], Loss: 0.2312, Train Accuracy is:90.8981%\n",
            "Accuracy of the network on the 5000 validation images: 89.41666666666667 %\n",
            "--------------------------------------------------\n",
            "Epoch [13/15], Step [422/422], Loss: 0.3010, Train Accuracy is:91.1296%\n",
            "Accuracy of the network on the 5000 validation images: 89.2 %\n",
            "--------------------------------------------------\n",
            "Epoch [14/15], Step [422/422], Loss: 0.1717, Train Accuracy is:91.3685%\n",
            "Accuracy of the network on the 5000 validation images: 89.51666666666667 %\n",
            "--------------------------------------------------\n",
            "Epoch [15/15], Step [422/422], Loss: 0.2324, Train Accuracy is:91.5759%\n",
            "Accuracy of the network on the 5000 validation images: 89.68333333333334 %\n"
          ]
        }
      ]
    },
    {
      "cell_type": "code",
      "source": [
        "Train_array = np.array(Train_Accuracy)\n",
        "Test_array = np.array(Test_Accuracy)\n",
        "Test_array"
      ],
      "metadata": {
        "colab": {
          "base_uri": "https://localhost:8080/"
        },
        "id": "uFqQvB9U0ToC",
        "outputId": "fcf5e1c7-5590-4297-96a9-e0919cc569ef"
      },
      "execution_count": null,
      "outputs": [
        {
          "output_type": "execute_result",
          "data": {
            "text/plain": [
              "array([82.76666667, 85.5       , 85.73333333, 86.88333333, 87.55      ,\n",
              "       87.18333333, 88.15      , 88.81666667, 88.61666667, 89.6       ,\n",
              "       89.18333333, 89.41666667, 89.2       , 89.51666667, 89.68333333])"
            ]
          },
          "metadata": {},
          "execution_count": 90
        }
      ]
    },
    {
      "cell_type": "code",
      "source": [
        "A = np.arange(1, num_epochs+1)\n",
        "plt.plot(A, Train_array*100, color='r', label='Train_Accuracy')\n",
        "plt.plot(A, Test_array, color='g', label='Validation_Accuracy')\n",
        "plt.grid()\n",
        "plt.legend()"
      ],
      "metadata": {
        "colab": {
          "base_uri": "https://localhost:8080/",
          "height": 447
        },
        "id": "ZhvMHgn9opwQ",
        "outputId": "9e02acd7-e306-46f6-e784-ca0029a47698"
      },
      "execution_count": null,
      "outputs": [
        {
          "output_type": "execute_result",
          "data": {
            "text/plain": [
              "<matplotlib.legend.Legend at 0x7f27e12a1a50>"
            ]
          },
          "metadata": {},
          "execution_count": 93
        },
        {
          "output_type": "display_data",
          "data": {
            "text/plain": [
              "<Figure size 640x480 with 1 Axes>"
            ],
            "image/png": "[encoded data removed]"
          },
          "metadata": {}
        }
      ]
    },
    {
      "cell_type": "code",
      "source": [
        "with torch.no_grad():\n",
        "    correct = 0\n",
        "    total = 0\n",
        "\n",
        "    for images, labels in testloader:\n",
        "        if torch.cuda.is_available():\n",
        "              images = images.to('cuda')\n",
        "              labels = labels.to('cuda')\n",
        "        outputs = model(images)\n",
        "        _, predicted = torch.max(outputs.data, 1)\n",
        "        total += labels.size(0)\n",
        "        correct += (predicted == labels).sum().item()\n",
        "        del images, labels, outputs\n",
        "\n",
        "    print('Accuracy of the network on the {} test images: {} %'.format(10000, 100 * correct / total))"
      ],
      "metadata": {
        "colab": {
          "base_uri": "https://localhost:8080/"
        },
        "id": "rLJifB9Qq_2k",
        "outputId": "2f4e0573-c2c7-4d5c-a13f-44ddee15795f"
      },
      "execution_count": null,
      "outputs": [
        {
          "output_type": "stream",
          "name": "stdout",
          "text": [
            "Accuracy of the network on the 10000 test images: 90.8 %\n"
          ]
        }
      ]
    },
    {
      "cell_type": "code",
      "source": [
        "from sklearn.metrics import confusion_matrix, f1_score\n",
        "import seaborn as sns\n",
        "\n",
        "\n",
        "model.eval()\n",
        "\n",
        "# Get the predictions and true labels for the test set\n",
        "preds = []\n",
        "true_labels = []\n",
        "with torch.no_grad():\n",
        "    for data, labels in testloader:\n",
        "        data = data.to('cuda')\n",
        "        labels = labels.to('cuda')\n",
        "        outputs = model(data)\n",
        "        _, predicted = torch.max(outputs.data, 1)\n",
        "        preds.extend(predicted.cpu().numpy())\n",
        "        true_labels.extend(labels.cpu().numpy())\n",
        "\n",
        "# Calculate the confusion matrix and class-wise F1 score\n",
        "cm = confusion_matrix(true_labels, preds)\n",
        "f1 = f1_score(true_labels, preds, average=None)\n",
        "\n",
        "print(\"Class-wise F1 score:\")\n",
        "print(f1)\n",
        "sns.heatmap(cm, annot=True, fmt='d', cmap='Blues')\n",
        "plt.title('Confusion Matrix')\n",
        "plt.xlabel('Predicted label')\n",
        "plt.ylabel('True label')\n",
        "plt.show()\n"
      ],
      "metadata": {
        "colab": {
          "base_uri": "https://localhost:8080/",
          "height": 524
        },
        "id": "zJyn7-VSrBKA",
        "outputId": "c884f378-124b-4b2b-c34b-3e4cd8900568"
      },
      "execution_count": null,
      "outputs": [
        {
          "output_type": "stream",
          "name": "stdout",
          "text": [
            "Class-wise F1 score:\n",
            "[0.86826923 0.9884131  0.8548233  0.91826438 0.84477612 0.96929376\n",
            " 0.73168103 0.95377129 0.98439859 0.95943916]\n"
          ]
        },
        {
          "output_type": "display_data",
          "data": {
            "text/plain": [
              "<Figure size 640x480 with 2 Axes>"
            ],
            "image/png": "[encoded data removed]"
          },
          "metadata": {}
        }
      ]
    },
    {
      "cell_type": "code",
      "source": [],
      "metadata": {
        "id": "DQS9X-wt1y1p"
      },
      "execution_count": null,
      "outputs": []
    }
  ]
}